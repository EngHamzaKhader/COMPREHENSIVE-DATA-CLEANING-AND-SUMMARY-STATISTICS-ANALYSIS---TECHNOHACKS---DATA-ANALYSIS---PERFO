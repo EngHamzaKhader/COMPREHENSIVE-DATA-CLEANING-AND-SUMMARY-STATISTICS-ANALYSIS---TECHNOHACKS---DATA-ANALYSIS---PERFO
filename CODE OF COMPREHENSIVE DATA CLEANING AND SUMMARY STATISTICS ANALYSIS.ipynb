{
 "cells": [
  {
   "cell_type": "markdown",
   "metadata": {},
   "source": [
    "# **COMPREHENSIVE DATA CLEANING AND SUMMARY STATISTICS ANALYSIS**"
   ]
  },
  {
   "cell_type": "markdown",
   "metadata": {},
   "source": [
    "# **TASK 1: DATA CLEANING**"
   ]
  },
  {
   "cell_type": "markdown",
   "metadata": {},
   "source": [
    "### Step 1: Load and Read the Data"
   ]
  },
  {
   "cell_type": "code",
   "execution_count": 147,
   "metadata": {},
   "outputs": [],
   "source": [
    "# Step 1: Load and Read the Data\n",
    "\n",
    "import pandas as pd\n",
    "import numpy as np\n",
    "\n",
    "data_path = r\"D:\\# DATA SCIENCE\\# PROJECTS\\- PROJECTS INTERNSHIPS\\TECHNOHACKS SOLUTIONS - DATA ANALYSIS\\COMPREHENSIVE DATA CLEANING AND SUMMARY STATISTICS ANALYSIS\\Data\\train.csv\"\n",
    "\n",
    "train_df = pd.read_csv(data_path)"
   ]
  },
  {
   "cell_type": "markdown",
   "metadata": {},
   "source": [
    "### Step 2: Initial Data Exploration"
   ]
  },
  {
   "cell_type": "code",
   "execution_count": 148,
   "metadata": {},
   "outputs": [
    {
     "name": "stdout",
     "output_type": "stream",
     "text": [
      "\n",
      "Initial Data Info:\n",
      "<class 'pandas.core.frame.DataFrame'>\n",
      "RangeIndex: 891 entries, 0 to 890\n",
      "Data columns (total 12 columns):\n",
      " #   Column       Non-Null Count  Dtype  \n",
      "---  ------       --------------  -----  \n",
      " 0   PassengerId  891 non-null    int64  \n",
      " 1   Survived     891 non-null    int64  \n",
      " 2   Pclass       891 non-null    int64  \n",
      " 3   Name         891 non-null    object \n",
      " 4   Sex          891 non-null    object \n",
      " 5   Age          714 non-null    float64\n",
      " 6   SibSp        891 non-null    int64  \n",
      " 7   Parch        891 non-null    int64  \n",
      " 8   Ticket       891 non-null    object \n",
      " 9   Fare         891 non-null    float64\n",
      " 10  Cabin        204 non-null    object \n",
      " 11  Embarked     889 non-null    object \n",
      "dtypes: float64(2), int64(5), object(5)\n",
      "memory usage: 83.7+ KB\n",
      "None\n"
     ]
    }
   ],
   "source": [
    "# Step 2: Initial Data Exploration\n",
    "print(\"\\nInitial Data Info:\")\n",
    "print(train_df.info())\n"
   ]
  },
  {
   "cell_type": "code",
   "execution_count": 149,
   "metadata": {},
   "outputs": [
    {
     "name": "stdout",
     "output_type": "stream",
     "text": [
      "\n",
      "Number of duplicate rows: 0\n"
     ]
    }
   ],
   "source": [
    "# Step 2.1: Check for Duplicates\n",
    "duplicates = train_df.duplicated().sum()\n",
    "print(f\"\\nNumber of duplicate rows: {duplicates}\")\n",
    "if duplicates > 0:\n",
    "    train_df.drop_duplicates(inplace=True)\n",
    "    print(\"Duplicates removed.\")\n"
   ]
  },
  {
   "cell_type": "code",
   "execution_count": 150,
   "metadata": {},
   "outputs": [
    {
     "name": "stdout",
     "output_type": "stream",
     "text": [
      "\n",
      "Data Types Before Correction:\n",
      "PassengerId      int64\n",
      "Survived         int64\n",
      "Pclass           int64\n",
      "Name            object\n",
      "Sex             object\n",
      "Age            float64\n",
      "SibSp            int64\n",
      "Parch            int64\n",
      "Ticket          object\n",
      "Fare           float64\n",
      "Cabin           object\n",
      "Embarked        object\n",
      "dtype: object\n"
     ]
    }
   ],
   "source": [
    "# Step 2.2: Check and Correct Data Types\n",
    "print(\"\\nData Types Before Correction:\")\n",
    "print(train_df.dtypes)\n"
   ]
  },
  {
   "cell_type": "code",
   "execution_count": 151,
   "metadata": {},
   "outputs": [
    {
     "name": "stdout",
     "output_type": "stream",
     "text": [
      "\n",
      "Data Types After Correction:\n",
      "PassengerId       int64\n",
      "Survived       category\n",
      "Pclass            int64\n",
      "Name             object\n",
      "Sex              object\n",
      "Age             float64\n",
      "SibSp             int64\n",
      "Parch             int64\n",
      "Ticket           object\n",
      "Fare            float64\n",
      "Cabin            object\n",
      "Embarked       category\n",
      "dtype: object\n"
     ]
    }
   ],
   "source": [
    "# Step 2.3: Correcting data types:\n",
    "\n",
    "# Convert 'Survived' to categorical\n",
    "train_df['Survived'] = train_df['Survived'].astype('category')\n",
    "\n",
    "# Convert 'Embarked' to categorical\n",
    "train_df['Embarked'] = train_df['Embarked'].astype('category')\n",
    "\n",
    "# Convert 'Age' and 'Fare' to float if they are not already\n",
    "train_df['Age'] = train_df['Age'].astype(float)\n",
    "train_df['Fare'] = train_df['Fare'].astype(float)\n",
    "\n",
    "print(\"\\nData Types After Correction:\")\n",
    "print(train_df.dtypes)"
   ]
  },
  {
   "cell_type": "markdown",
   "metadata": {},
   "source": [
    "### Step 3: Display Initial Statistical Summary"
   ]
  },
  {
   "cell_type": "code",
   "execution_count": 152,
   "metadata": {},
   "outputs": [
    {
     "name": "stdout",
     "output_type": "stream",
     "text": [
      "\n",
      "Initial Statistical Summary:\n",
      "        PassengerId  Survived      Pclass                     Name   Sex  \\\n",
      "count    891.000000     891.0  891.000000                      891   891   \n",
      "unique          NaN       2.0         NaN                      891     2   \n",
      "top             NaN       0.0         NaN  Braund, Mr. Owen Harris  male   \n",
      "freq            NaN     549.0         NaN                        1   577   \n",
      "mean     446.000000       NaN    2.308642                      NaN   NaN   \n",
      "std      257.353842       NaN    0.836071                      NaN   NaN   \n",
      "min        1.000000       NaN    1.000000                      NaN   NaN   \n",
      "25%      223.500000       NaN    2.000000                      NaN   NaN   \n",
      "50%      446.000000       NaN    3.000000                      NaN   NaN   \n",
      "75%      668.500000       NaN    3.000000                      NaN   NaN   \n",
      "max      891.000000       NaN    3.000000                      NaN   NaN   \n",
      "\n",
      "               Age       SibSp       Parch  Ticket        Fare    Cabin  \\\n",
      "count   714.000000  891.000000  891.000000     891  891.000000      204   \n",
      "unique         NaN         NaN         NaN     681         NaN      147   \n",
      "top            NaN         NaN         NaN  347082         NaN  B96 B98   \n",
      "freq           NaN         NaN         NaN       7         NaN        4   \n",
      "mean     29.699118    0.523008    0.381594     NaN   32.204208      NaN   \n",
      "std      14.526497    1.102743    0.806057     NaN   49.693429      NaN   \n",
      "min       0.420000    0.000000    0.000000     NaN    0.000000      NaN   \n",
      "25%      20.125000    0.000000    0.000000     NaN    7.910400      NaN   \n",
      "50%      28.000000    0.000000    0.000000     NaN   14.454200      NaN   \n",
      "75%      38.000000    1.000000    0.000000     NaN   31.000000      NaN   \n",
      "max      80.000000    8.000000    6.000000     NaN  512.329200      NaN   \n",
      "\n",
      "       Embarked  \n",
      "count       889  \n",
      "unique        3  \n",
      "top           S  \n",
      "freq        644  \n",
      "mean        NaN  \n",
      "std         NaN  \n",
      "min         NaN  \n",
      "25%         NaN  \n",
      "50%         NaN  \n",
      "75%         NaN  \n",
      "max         NaN  \n"
     ]
    }
   ],
   "source": [
    "# Step 3: Display Initial Statistical Summary\n",
    "print(\"\\nInitial Statistical Summary:\")\n",
    "print(train_df.describe(include='all'))"
   ]
  },
  {
   "cell_type": "markdown",
   "metadata": {},
   "source": [
    "### Step 4: Check for Missing Values"
   ]
  },
  {
   "cell_type": "code",
   "execution_count": 153,
   "metadata": {},
   "outputs": [
    {
     "name": "stdout",
     "output_type": "stream",
     "text": [
      "\n",
      "Missing Values Before Cleaning:\n",
      "Age         177\n",
      "Cabin       687\n",
      "Embarked      2\n",
      "dtype: int64\n"
     ]
    }
   ],
   "source": [
    "# Step 4: Check for Missing Values\n",
    "missing_values = train_df.isnull().sum()\n",
    "print(\"\\nMissing Values Before Cleaning:\")\n",
    "print(missing_values[missing_values > 0])\n"
   ]
  },
  {
   "cell_type": "markdown",
   "metadata": {},
   "source": [
    "### Step 5: Data Cleaning - Remove Missing 'Age' Values"
   ]
  },
  {
   "cell_type": "code",
   "execution_count": 154,
   "metadata": {},
   "outputs": [],
   "source": [
    "# Step 5: Data Cleaning - Remove Missing 'Age' Values\n",
    "train_df = train_df.dropna(subset=['Age'])\n"
   ]
  },
  {
   "cell_type": "markdown",
   "metadata": {},
   "source": [
    "### Step 6: Fill Missing 'Fare' Values with the Median"
   ]
  },
  {
   "cell_type": "code",
   "execution_count": 155,
   "metadata": {},
   "outputs": [],
   "source": [
    "# Step 6: Fill Missing 'Fare' Values with the Median\n",
    "train_df['Fare'].fillna(train_df['Fare'].median(), inplace=True)\n"
   ]
  },
  {
   "cell_type": "markdown",
   "metadata": {},
   "source": [
    "### Step 7: Handle Missing Values for 'Embarked' and 'Cabin'"
   ]
  },
  {
   "cell_type": "code",
   "execution_count": 156,
   "metadata": {},
   "outputs": [],
   "source": [
    "# Step 7: Handle Missing Values for 'Embarked' and 'Cabin'\n",
    "# Fill missing 'Embarked' values with the mode\n",
    "train_df['Embarked'].fillna(train_df['Embarked'].mode()[0], inplace=True)\n",
    "\n",
    "# Handle 'Cabin' by filling or dropping\n",
    "train_df['Cabin'].fillna('Unknown', inplace=True)  # or train_df.drop(columns=['Cabin'], inplace=True)\n"
   ]
  },
  {
   "cell_type": "markdown",
   "metadata": {},
   "source": [
    "### Step 8: Check for Missing Values After Cleaning"
   ]
  },
  {
   "cell_type": "code",
   "execution_count": 157,
   "metadata": {},
   "outputs": [
    {
     "name": "stdout",
     "output_type": "stream",
     "text": [
      "\n",
      "Missing Values After Cleaning:\n",
      "Series([], dtype: int64)\n"
     ]
    }
   ],
   "source": [
    "# Step 8: Check for Missing Values After Cleaning\n",
    "missing_values_after = train_df.isnull().sum()\n",
    "print(\"\\nMissing Values After Cleaning:\")\n",
    "print(missing_values_after[missing_values_after > 0])\n"
   ]
  },
  {
   "cell_type": "markdown",
   "metadata": {},
   "source": [
    "### Step 9: Check for Outliers Before Handling (Age)"
   ]
  },
  {
   "cell_type": "code",
   "execution_count": 158,
   "metadata": {},
   "outputs": [
    {
     "name": "stdout",
     "output_type": "stream",
     "text": [
      "\n",
      "Outliers for 'Age' Before Handling:\n",
      "     PassengerId Survived  Pclass                                  Name   Sex  \\\n",
      "630          631        1       1  Barkworth, Mr. Algernon Henry Wilson  male   \n",
      "851          852        0       3                   Svensson, Mr. Johan  male   \n",
      "\n",
      "      Age  SibSp  Parch  Ticket    Fare    Cabin Embarked  \n",
      "630  80.0      0      0   27042  30.000      A23        S  \n",
      "851  74.0      0      0  347060   7.775  Unknown        S  \n"
     ]
    }
   ],
   "source": [
    "# Step 9: Check for Outliers Before Handling (Age)\n",
    "z_scores_before = np.abs((train_df['Age'] - train_df['Age'].mean()) / train_df['Age'].std())\n",
    "outliers_before_age = train_df[z_scores_before >= 3]\n",
    "print(\"\\nOutliers for 'Age' Before Handling:\")\n",
    "print(outliers_before_age)\n"
   ]
  },
  {
   "cell_type": "markdown",
   "metadata": {},
   "source": [
    "# Step 10: Check for Outliers Before Handling (Fare)"
   ]
  },
  {
   "cell_type": "code",
   "execution_count": 159,
   "metadata": {},
   "outputs": [
    {
     "name": "stdout",
     "output_type": "stream",
     "text": [
      "\n",
      "Outliers for 'Fare' Before Handling:\n",
      "     PassengerId Survived  Pclass  \\\n",
      "27            28        0       1   \n",
      "34            35        0       1   \n",
      "52            53        1       1   \n",
      "61            62        1       1   \n",
      "62            63        0       1   \n",
      "..           ...      ...     ...   \n",
      "820          821        1       1   \n",
      "829          830        1       1   \n",
      "835          836        1       1   \n",
      "856          857        1       1   \n",
      "879          880        1       1   \n",
      "\n",
      "                                                  Name     Sex   Age  SibSp  \\\n",
      "27                      Fortune, Mr. Charles Alexander    male  19.0      3   \n",
      "34                             Meyer, Mr. Edgar Joseph    male  28.0      1   \n",
      "52            Harper, Mrs. Henry Sleeper (Myna Haxtun)  female  49.0      1   \n",
      "61                                 Icard, Miss. Amelie  female  38.0      0   \n",
      "62                         Harris, Mr. Henry Birkhardt    male  45.0      1   \n",
      "..                                                 ...     ...   ...    ...   \n",
      "820  Hays, Mrs. Charles Melville (Clara Jennings Gr...  female  52.0      1   \n",
      "829          Stone, Mrs. George Nelson (Martha Evelyn)  female  62.0      0   \n",
      "835                        Compton, Miss. Sara Rebecca  female  39.0      1   \n",
      "856         Wick, Mrs. George Dennick (Mary Hitchcock)  female  45.0      1   \n",
      "879      Potter, Mrs. Thomas Jr (Lily Alexenia Wilson)  female  56.0      0   \n",
      "\n",
      "     Parch    Ticket      Fare        Cabin Embarked  \n",
      "27       2     19950  263.0000  C23 C25 C27        S  \n",
      "34       0  PC 17604   82.1708      Unknown        C  \n",
      "52       0  PC 17572   76.7292          D33        C  \n",
      "61       0    113572   80.0000          B28        S  \n",
      "62       0     36973   83.4750          C83        S  \n",
      "..     ...       ...       ...          ...      ...  \n",
      "820      1     12749   93.5000          B69        S  \n",
      "829      0    113572   80.0000          B28        S  \n",
      "835      1  PC 17756   83.1583          E49        C  \n",
      "856      1     36928  164.8667      Unknown        S  \n",
      "879      1     11767   83.1583          C50        C  \n",
      "\n",
      "[94 rows x 12 columns]\n"
     ]
    }
   ],
   "source": [
    "# Step 10: Check for Outliers Before Handling (Fare)\n",
    "Q1_before = train_df['Fare'].quantile(0.25)\n",
    "Q3_before = train_df['Fare'].quantile(0.75)\n",
    "IQR_before = Q3_before - Q1_before\n",
    "outliers_before_fare = train_df[(train_df['Fare'] < (Q1_before - 1.5 * IQR_before)) | (train_df['Fare'] > (Q3_before + 1.5 * IQR_before))]\n",
    "print(\"\\nOutliers for 'Fare' Before Handling:\")\n",
    "print(outliers_before_fare)\n"
   ]
  },
  {
   "cell_type": "markdown",
   "metadata": {},
   "source": [
    "### Step 11: Remove Outliers Using Z-Score Method (Age)"
   ]
  },
  {
   "cell_type": "code",
   "execution_count": 160,
   "metadata": {},
   "outputs": [
    {
     "name": "stdout",
     "output_type": "stream",
     "text": [
      "\n",
      "Outliers for 'Age' After Handling:\n",
      "Empty DataFrame\n",
      "Columns: [PassengerId, Survived, Pclass, Name, Sex, Age, SibSp, Parch, Ticket, Fare, Cabin, Embarked]\n",
      "Index: []\n"
     ]
    }
   ],
   "source": [
    "# Step 11: Remove Outliers for 'Age' Using Z-Score Method\n",
    "z_scores = np.abs((train_df['Age'] - train_df['Age'].mean()) / train_df['Age'].std())\n",
    "train_df = train_df[z_scores < 3]\n",
    "\n",
    "# Step 11.1: Check for Outliers After Handling (Age)\n",
    "z_scores_after = np.abs((train_df['Age'] - train_df['Age'].mean()) / train_df['Age'].std())\n",
    "outliers_after_age = train_df[z_scores_after >= 3]\n",
    "\n",
    "print(\"\\nOutliers for 'Age' After Handling:\")\n",
    "print(outliers_after_age)\n"
   ]
  },
  {
   "cell_type": "markdown",
   "metadata": {},
   "source": [
    "### Step 12: Remove Outliers Using IQR Method (Fare) "
   ]
  },
  {
   "cell_type": "code",
   "execution_count": 161,
   "metadata": {},
   "outputs": [
    {
     "name": "stdout",
     "output_type": "stream",
     "text": [
      "\n",
      "Outliers for 'Fare' After Handling:\n",
      "     PassengerId Survived  Pclass  \\\n",
      "1              2        1       1   \n",
      "54            55        0       1   \n",
      "74            75        1       3   \n",
      "92            93        0       1   \n",
      "97            98        1       1   \n",
      "151          152        1       1   \n",
      "155          156        0       1   \n",
      "169          170        0       3   \n",
      "309          310        1       1   \n",
      "329          330        1       1   \n",
      "336          337        0       1   \n",
      "356          357        1       1   \n",
      "369          370        1       1   \n",
      "370          371        1       1   \n",
      "434          435        0       1   \n",
      "509          510        1       3   \n",
      "513          514        1       1   \n",
      "523          524        1       1   \n",
      "540          541        1       1   \n",
      "577          578        1       1   \n",
      "599          600        1       1   \n",
      "615          616        1       2   \n",
      "641          642        1       1   \n",
      "690          691        1       1   \n",
      "745          746        0       1   \n",
      "754          755        1       2   \n",
      "781          782        1       1   \n",
      "838          839        1       3   \n",
      "\n",
      "                                                  Name     Sex   Age  SibSp  \\\n",
      "1    Cumings, Mrs. John Bradley (Florence Briggs Th...  female  38.0      1   \n",
      "54                      Ostby, Mr. Engelhart Cornelius    male  65.0      0   \n",
      "74                                       Bing, Mr. Lee    male  32.0      0   \n",
      "92                         Chaffee, Mr. Herbert Fuller    male  46.0      1   \n",
      "97                     Greenfield, Mr. William Bertram    male  23.0      0   \n",
      "151                  Pears, Mrs. Thomas (Edith Wearne)  female  22.0      1   \n",
      "155                        Williams, Mr. Charles Duane    male  51.0      0   \n",
      "169                                      Ling, Mr. Lee    male  28.0      0   \n",
      "309                     Francatelli, Miss. Laura Mabel  female  30.0      0   \n",
      "329                       Hippach, Miss. Jean Gertrude  female  16.0      0   \n",
      "336                          Pears, Mr. Thomas Clinton    male  29.0      1   \n",
      "356                        Bowerman, Miss. Elsie Edith  female  22.0      0   \n",
      "369                      Aubart, Mme. Leontine Pauline  female  24.0      0   \n",
      "370                        Harder, Mr. George Achilles    male  25.0      1   \n",
      "434                          Silvey, Mr. William Baird    male  50.0      1   \n",
      "509                                     Lang, Mr. Fang    male  26.0      0   \n",
      "513     Rothschild, Mrs. Martin (Elizabeth L. Barrett)  female  54.0      1   \n",
      "523    Hippach, Mrs. Louis Albert (Ida Sophia Fischer)  female  44.0      0   \n",
      "540                            Crosby, Miss. Harriet R  female  36.0      0   \n",
      "577          Silvey, Mrs. William Baird (Alice Munger)  female  39.0      1   \n",
      "599       Duff Gordon, Sir. Cosmo Edmund (\"Mr Morgan\")    male  49.0      1   \n",
      "615                                Herman, Miss. Alice  female  24.0      1   \n",
      "641                               Sagesser, Mlle. Emma  female  24.0      0   \n",
      "690                            Dick, Mr. Albert Adrian    male  31.0      1   \n",
      "745                       Crosby, Capt. Edward Gifford    male  70.0      1   \n",
      "754                   Herman, Mrs. Samuel (Jane Laver)  female  48.0      1   \n",
      "781          Dick, Mrs. Albert Adrian (Vera Gillespie)  female  17.0      1   \n",
      "838                                    Chip, Mr. Chang    male  32.0      0   \n",
      "\n",
      "     Parch       Ticket     Fare    Cabin Embarked  \n",
      "1        0     PC 17599  71.2833      C85        C  \n",
      "54       1       113509  61.9792      B30        C  \n",
      "74       0         1601  56.4958  Unknown        S  \n",
      "92       0  W.E.P. 5734  61.1750      E31        S  \n",
      "97       1     PC 17759  63.3583  D10 D12        C  \n",
      "151      0       113776  66.6000       C2        S  \n",
      "155      1     PC 17597  61.3792  Unknown        C  \n",
      "169      0         1601  56.4958  Unknown        S  \n",
      "309      0     PC 17485  56.9292      E36        C  \n",
      "329      1       111361  57.9792      B18        C  \n",
      "336      0       113776  66.6000       C2        S  \n",
      "356      1       113505  55.0000      E33        S  \n",
      "369      0     PC 17477  69.3000      B35        C  \n",
      "370      0        11765  55.4417      E50        C  \n",
      "434      0        13507  55.9000      E44        S  \n",
      "509      0         1601  56.4958  Unknown        S  \n",
      "513      0     PC 17603  59.4000  Unknown        C  \n",
      "523      1       111361  57.9792      B18        C  \n",
      "540      2    WE/P 5735  71.0000      B22        S  \n",
      "577      0        13507  55.9000      E44        S  \n",
      "599      0     PC 17485  56.9292      A20        C  \n",
      "615      2       220845  65.0000  Unknown        S  \n",
      "641      0     PC 17477  69.3000      B35        C  \n",
      "690      0        17474  57.0000      B20        S  \n",
      "745      1    WE/P 5735  71.0000      B22        S  \n",
      "754      2       220845  65.0000  Unknown        S  \n",
      "781      0        17474  57.0000      B20        S  \n",
      "838      0         1601  56.4958  Unknown        S  \n"
     ]
    }
   ],
   "source": [
    "# Step 12: Remove Outliers for 'Fare' Using IQR Method\n",
    "Q1 = train_df['Fare'].quantile(0.25)\n",
    "Q3 = train_df['Fare'].quantile(0.75)\n",
    "IQR = Q3 - Q1\n",
    "train_df = train_df[(train_df['Fare'] >= (Q1 - 1.5 * IQR)) & (train_df['Fare'] <= (Q3 + 1.5 * IQR))]\n",
    "\n",
    "# Step 12.1: Check for Outliers After Handling (Fare)\n",
    "Q1_after = train_df['Fare'].quantile(0.25)\n",
    "Q3_after = train_df['Fare'].quantile(0.75)\n",
    "IQR_after = Q3_after - Q1_after\n",
    "outliers_after_fare = train_df[(train_df['Fare'] < (Q1_after - 1.5 * IQR_after)) | (train_df['Fare'] > (Q3_after + 1.5 * IQR_after))]\n",
    "\n",
    "print(\"\\nOutliers for 'Fare' After Handling:\")\n",
    "print(outliers_after_fare)\n"
   ]
  },
  {
   "cell_type": "markdown",
   "metadata": {},
   "source": [
    "###  Outlier Visualization and Removal for 'Fare' Column Using Box Plot"
   ]
  },
  {
   "cell_type": "code",
   "execution_count": 162,
   "metadata": {},
   "outputs": [
    {
     "data": {
      "image/png": "[encoded data removed]",
      "text/plain": [
       "<Figure size 1000x600 with 1 Axes>"
      ]
     },
     "metadata": {},
     "output_type": "display_data"
    },
    {
     "data": {
      "image/png": "[encoded data removed]",
      "text/plain": [
       "<Figure size 1000x600 with 1 Axes>"
      ]
     },
     "metadata": {},
     "output_type": "display_data"
    }
   ],
   "source": [
    "import matplotlib.pyplot as plt\n",
    "import seaborn as sns\n",
    "\n",
    "# Step 1: Create a box plot for 'Fare' before handling outliers\n",
    "plt.figure(figsize=(10, 6))\n",
    "sns.boxplot(x=train_df['Fare'])\n",
    "plt.title('Box Plot of Fare Before Handling Outliers')\n",
    "plt.xlabel('Fare')\n",
    "plt.show()\n",
    "\n",
    "# Step 2: Remove outliers using the IQR method\n",
    "Q1 = train_df['Fare'].quantile(0.25)\n",
    "Q3 = train_df['Fare'].quantile(0.75)\n",
    "IQR = Q3 - Q1\n",
    "train_df = train_df[(train_df['Fare'] >= (Q1 - 1.5 * IQR)) & (train_df['Fare'] <= (Q3 + 1.5 * IQR))]\n",
    "\n",
    "# Step 3: Create a box plot for 'Fare' after handling outliers\n",
    "plt.figure(figsize=(10, 6))\n",
    "sns.boxplot(x=train_df['Fare'])\n",
    "plt.title('Box Plot of Fare After Handling Outliers')\n",
    "plt.xlabel('Fare')\n",
    "plt.show()\n"
   ]
  },
  {
   "cell_type": "markdown",
   "metadata": {},
   "source": [
    "### Step 13: Final Data Information"
   ]
  },
  {
   "cell_type": "code",
   "execution_count": 163,
   "metadata": {},
   "outputs": [
    {
     "name": "stdout",
     "output_type": "stream",
     "text": [
      "\n",
      "Data Info After Cleaning:\n",
      "<class 'pandas.core.frame.DataFrame'>\n",
      "Index: 590 entries, 0 to 890\n",
      "Data columns (total 12 columns):\n",
      " #   Column       Non-Null Count  Dtype   \n",
      "---  ------       --------------  -----   \n",
      " 0   PassengerId  590 non-null    int64   \n",
      " 1   Survived     590 non-null    category\n",
      " 2   Pclass       590 non-null    int64   \n",
      " 3   Name         590 non-null    object  \n",
      " 4   Sex          590 non-null    object  \n",
      " 5   Age          590 non-null    float64 \n",
      " 6   SibSp        590 non-null    int64   \n",
      " 7   Parch        590 non-null    int64   \n",
      " 8   Ticket       590 non-null    object  \n",
      " 9   Fare         590 non-null    float64 \n",
      " 10  Cabin        590 non-null    object  \n",
      " 11  Embarked     590 non-null    category\n",
      "dtypes: category(2), float64(2), int64(4), object(4)\n",
      "memory usage: 52.1+ KB\n",
      "None\n"
     ]
    }
   ],
   "source": [
    "# Step 13: Final Data Information\n",
    "print(\"\\nData Info After Cleaning:\")\n",
    "print(train_df.info())"
   ]
  },
  {
   "cell_type": "markdown",
   "metadata": {},
   "source": [
    "### Step 14: Save Cleaned Data to a New CSV File"
   ]
  },
  {
   "cell_type": "code",
   "execution_count": 164,
   "metadata": {},
   "outputs": [
    {
     "name": "stdout",
     "output_type": "stream",
     "text": [
      "\n",
      "Cleaned data saved to: D:\\# DATA SCIENCE\\# PROJECTS\\- PROJECTS INTERNSHIPS\\TECHNOHACKS SOLUTIONS - DATA ANALYSIS\\COMPREHENSIVE DATA CLEANING AND SUMMARY STATISTICS ANALYSIS\\cleaned_train.csv\n"
     ]
    }
   ],
   "source": [
    "# Step 14: Save Cleaned Data to a New CSV File\n",
    "cleaned_data_path = r\"D:\\# DATA SCIENCE\\# PROJECTS\\- PROJECTS INTERNSHIPS\\TECHNOHACKS SOLUTIONS - DATA ANALYSIS\\COMPREHENSIVE DATA CLEANING AND SUMMARY STATISTICS ANALYSIS\\cleaned_train.csv\"\n",
    "train_df.to_csv(cleaned_data_path, index=False)\n",
    "print(f\"\\nCleaned data saved to: {cleaned_data_path}\")\n"
   ]
  },
  {
   "cell_type": "markdown",
   "metadata": {},
   "source": [
    "# **Task 2: CALCULATE SUMMARY STATISTICS**"
   ]
  },
  {
   "cell_type": "markdown",
   "metadata": {},
   "source": [
    "### Step 15: Calculate Summary Statistics"
   ]
  },
  {
   "cell_type": "code",
   "execution_count": 165,
   "metadata": {},
   "outputs": [],
   "source": [
    "# Step 15: Calculate Summary Statistics\n",
    "summary_stats = {\n",
    "    'Mean Age': train_df['Age'].mean(),\n",
    "    'Median Age': train_df['Age'].median(),\n",
    "    'Mode Age': train_df['Age'].mode()[0],\n",
    "    'Standard Deviation Age': train_df['Age'].std(),\n",
    "    'Mean Fare': train_df['Fare'].mean(),\n",
    "    'Median Fare': train_df['Fare'].median(),\n",
    "    'Mode Fare': train_df['Fare'].mode()[0],\n",
    "    'Standard Deviation Fare': train_df['Fare'].std(),\n",
    "    'Count of Survived': train_df['Survived'].value_counts(),\n",
    "}\n"
   ]
  },
  {
   "cell_type": "markdown",
   "metadata": {},
   "source": [
    "### Step 16: Display Summary Statistics"
   ]
  },
  {
   "cell_type": "code",
   "execution_count": 166,
   "metadata": {},
   "outputs": [
    {
     "name": "stdout",
     "output_type": "stream",
     "text": [
      "\n",
      "Summary Statistics:\n",
      "Mean Age: 28.539406779661018\n",
      "Median Age: 28.0\n",
      "Mode Age: 19.0\n",
      "Standard Deviation Age: 14.088066563999076\n",
      "Mean Fare: 17.289201525423728\n",
      "Median Fare: 13.0\n",
      "Mode Fare: 13.0\n",
      "Standard Deviation Fare: 11.731119433333369\n",
      "Count of Survived: Survived\n",
      "0    390\n",
      "1    200\n",
      "Name: count, dtype: int64\n"
     ]
    }
   ],
   "source": [
    "# Step 16: Display Summary Statistics\n",
    "print(\"\\nSummary Statistics:\")\n",
    "for stat, value in summary_stats.items():\n",
    "    print(f\"{stat}: {value}\")\n"
   ]
  },
  {
   "cell_type": "markdown",
   "metadata": {},
   "source": [
    "### Step 17: Detailed Statistical Summary for Numerical Columns"
   ]
  },
  {
   "cell_type": "code",
   "execution_count": 167,
   "metadata": {},
   "outputs": [
    {
     "name": "stdout",
     "output_type": "stream",
     "text": [
      "\n",
      "Detailed Statistical Summary for Numerical Columns:\n",
      "       PassengerId      Pclass         Age       SibSp       Parch        Fare\n",
      "count   590.000000  590.000000  590.000000  590.000000  590.000000  590.000000\n",
      "mean    448.601695    2.467797   28.539407    0.489831    0.400000   17.289202\n",
      "std     263.696839    0.707573   14.088067    0.969342    0.856018   11.731119\n",
      "min       1.000000    1.000000    0.420000    0.000000    0.000000    0.000000\n",
      "25%     211.250000    2.000000   20.000000    0.000000    0.000000    7.925000\n",
      "50%     447.500000    3.000000   28.000000    0.000000    0.000000   13.000000\n",
      "75%     683.750000    3.000000   36.000000    1.000000    0.000000   26.000000\n",
      "max     891.000000    3.000000   71.000000    5.000000    6.000000   53.100000\n"
     ]
    }
   ],
   "source": [
    "# Step 17: Detailed Statistical Summary for Numerical Columns\n",
    "print(\"\\nDetailed Statistical Summary for Numerical Columns:\")\n",
    "print(train_df.describe())\n"
   ]
  }
 ],
 "metadata": {
  "kernelspec": {
   "display_name": "Python 3",
   "language": "python",
   "name": "python3"
  },
  "language_info": {
   "codemirror_mode": {
    "name": "ipython",
    "version": 3
   },
   "file_extension": ".py",
   "mimetype": "text/x-python",
   "name": "python",
   "nbconvert_exporter": "python",
   "pygments_lexer": "ipython3",
   "version": "3.11.5"
  }
 },
 "nbformat": 4,
 "nbformat_minor": 2
}
